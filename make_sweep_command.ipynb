{
 "cells": [
  {
   "cell_type": "code",
   "execution_count": 1,
   "id": "ed5f8023",
   "metadata": {},
   "outputs": [],
   "source": [
    "from itertools import cycle\n",
    "import numpy as np\n",
    "from decimal import Decimal"
   ]
  },
  {
   "cell_type": "code",
   "execution_count": 2,
   "id": "3f55a82c",
   "metadata": {},
   "outputs": [],
   "source": [
    "def recon_command(origin_list):\n",
    "    out = \"\"\n",
    "    for el in origin_list:\n",
    "        out+=el+\" \"\n",
    "    return out[:-1]"
   ]
  },
  {
   "cell_type": "code",
   "execution_count": 3,
   "id": "d3a1d071",
   "metadata": {},
   "outputs": [],
   "source": [
    "def hyperparameterbegin(token):\n",
    "    if \"--\" in token:\n",
    "        return True\n",
    "    return False"
   ]
  },
  {
   "cell_type": "code",
   "execution_count": 4,
   "id": "915d8742",
   "metadata": {},
   "outputs": [],
   "source": [
    "def gethyperparameter(token):\n",
    "    return token[2:]"
   ]
  },
  {
   "cell_type": "code",
   "execution_count": 5,
   "id": "c5e152b4",
   "metadata": {},
   "outputs": [],
   "source": [
    "def gethyperdict(command_list):\n",
    "    #command_list = command.split(\" \")\n",
    "    hyperdict={}\n",
    "    is_hyper = False\n",
    "    before_el = None\n",
    "    for idx,el in enumerate(command_list):\n",
    "        if is_hyper:\n",
    "            hyper_name = gethyperparameter(before_el)\n",
    "            hyperdict[hyper_name] = {}\n",
    "            hyperdict[hyper_name][\"val\"] = el\n",
    "            hyperdict[hyper_name][\"val_idx\"] = idx\n",
    "        is_hyper = hyperparameterbegin(el)\n",
    "        before_el = el   \n",
    "    return hyperdict"
   ]
  },
  {
   "cell_type": "code",
   "execution_count": 6,
   "id": "c96378ea",
   "metadata": {},
   "outputs": [],
   "source": [
    "class hyper_candidate():\n",
    "    def __init__(self, name = None, val_candidate = None,period = 1,*args,**kwargs):\n",
    "        self.name = name\n",
    "        if type(val_candidate) == int:\n",
    "            val_candidate = range(val_candidate)\n",
    "\n",
    "        self.val_candidate = cycle(val_candidate)\n",
    "        \n",
    "        \n",
    "        \n",
    "        self.period = period\n",
    "        self.state = cycle(range(self.period))\n",
    "        self.return_val = None\n",
    "    \n",
    "    def get_name(self):\n",
    "        return self.name\n",
    "    \n",
    "    def get_next_val(self):\n",
    "        if next(self.state) == 0:\n",
    "            self.return_val = next(self.val_candidate)\n",
    "        return self.return_val"
   ]
  },
  {
   "cell_type": "code",
   "execution_count": 7,
   "id": "30f96edb",
   "metadata": {},
   "outputs": [],
   "source": [
    "def isfloat(num):\n",
    "    try:\n",
    "        float(num)\n",
    "        return True\n",
    "    except ValueError:\n",
    "        return False"
   ]
  },
  {
   "cell_type": "code",
   "execution_count": 18,
   "id": "3e102d8a",
   "metadata": {},
   "outputs": [],
   "source": [
    "def change_experiment_name(exp_name, hyp_name, hyp_val):\n",
    "    if hyp_name not in exp_name:\n",
    "        recon_name = exp_name + hyp_name + str((hyp_val))\n",
    "    else:\n",
    "        point = exp_name.split(hyp_name)\n",
    "        reside = point[0]\n",
    "        cut = point[1]    \n",
    "        count = 0\n",
    "        while(isfloat(cut[:count+1])):\n",
    "            count+=1\n",
    "            if count == len(cut):\n",
    "                break\n",
    "        recon_name = reside + hyp_name + str((hyp_val))+cut[count:]\n",
    "    return recon_name\n",
    "\n"
   ]
  },
  {
   "cell_type": "code",
   "execution_count": 19,
   "id": "3c5bfb66",
   "metadata": {},
   "outputs": [],
   "source": [
    "def exist_experient_name(name,hyper_dict):\n",
    "    try:\n",
    "        hyper_dict[name]\n",
    "        return hyper_dict[name]['val_idx']\n",
    "    except ValueError:\n",
    "        return -1"
   ]
  },
  {
   "cell_type": "code",
   "execution_count": 36,
   "id": "c1310793",
   "metadata": {},
   "outputs": [],
   "source": [
    "def change_hyper_val(command_list,hyperdict, list_inform_of_hyper_candidate,command_num):\n",
    "    exp_name = 'additional_experiment_name'\n",
    "    additional_experiment_name_idx = exist_experient_name(exp_name,hyperdict)\n",
    "    \n",
    "    list_of_hyper_candidate = []\n",
    "    for inform in list_inform_of_hyper_candidate:\n",
    "        list_of_hyper_candidate.append(hyper_candidate(*inform))\n",
    "    result_command = {}\n",
    "    for i in range(command_num):\n",
    "        for hyp in list_of_hyper_candidate:\n",
    "            hyp_name = hyp.get_name()\n",
    "            hyp_val = hyp.get_next_val()\n",
    "            command_list[hyperdict[hyp_name]['val_idx']] = str((hyp_val))\n",
    "            if (additional_experiment_name_idx>=0) and (hyp_name!='cuda_visible_device'):\n",
    "                command_list[additional_experiment_name_idx] = change_experiment_name(command_list[additional_experiment_name_idx], hyp_name, hyp_val)\n",
    "        result_command[i] = recon_command(command_list)\n",
    "    \n",
    "    return result_command\n",
    "    \n",
    "    "
   ]
  },
  {
   "cell_type": "code",
   "execution_count": 37,
   "id": "7c882451",
   "metadata": {},
   "outputs": [],
   "source": [
    "def print_result_command(result_command):\n",
    "    for i in range(len(result_command)):\n",
    "        print(\"#################################################\")\n",
    "        print(i, \"th command \")\n",
    "        print(\"#################################################\")\n",
    "        print(result_command[i])\n",
    "        print(\"*************************************************\")"
   ]
  },
  {
   "cell_type": "code",
   "execution_count": 38,
   "id": "8b1f7b48",
   "metadata": {},
   "outputs": [],
   "source": [
    "def make_sweep(command,list_inform_of_hyper_candidate, command_num):\n",
    "    command_list = command.split(\" \")\n",
    "    hyperdict = gethyperdict(command_list)\n",
    "    result = change_hyper_val(command_list,hyperdict, list_inform_of_hyper_candidate,command_num)\n",
    "    print_result_command(result)\n",
    "    return result"
   ]
  },
  {
   "cell_type": "code",
   "execution_count": 39,
   "id": "4703510c",
   "metadata": {},
   "outputs": [],
   "source": [
    "def xfrange(start, stop, step,maximum_float_precision = 2):\n",
    "    i = 0\n",
    "    while start + i * step < stop:\n",
    "        yield '%.2f' % (start + i * step)\n",
    "        i += 1\n"
   ]
  },
  {
   "cell_type": "code",
   "execution_count": 40,
   "id": "95879f54",
   "metadata": {},
   "outputs": [],
   "source": [
    "command = \"python3 federated_train.py --method FedMOSAM --config configs/cifar_Fedavg.yaml --data ./data --mode dirichlet --dirichlet_alpha 0.3 --batch_size 50 --centralized_epochs 0 --global_epochs 1000 --local_epochs 5 --epsilon 0.1 --momentum 0 --lr 0.1 --learning_rate_decay 0.998 --weight_decay 1e-3 --seed 0 --set CIFAR100 --arch ResNet18 --workers 0 --cuda_visible_device 2 --alpha 0 --num_of_clients 100 --participation_rate 0.05 --additional_experiment_name ld0.998parti0.05_beta0.1_rho0.05 --global_epochs 10000 --global_method global_delta --beta 0.1 --rho 0.05\"\n",
    "\n",
    "#ex) \"This is example with hyperparameter --a 1 --b 2\""
   ]
  },
  {
   "cell_type": "code",
   "execution_count": 44,
   "id": "2bd7576c",
   "metadata": {},
   "outputs": [],
   "source": [
    "list_inform_of_hyper_candidate = [(\"cuda_visible_device\",range(4,5)),(\"rho\",xfrange(0.4,0.5,0.05))]\n",
    "\n",
    "#ex) [(\"a\",5),(\"b\",range(0,7,2))]"
   ]
  },
  {
   "cell_type": "code",
   "execution_count": 45,
   "id": "e8684d26",
   "metadata": {},
   "outputs": [],
   "source": [
    "command_num = 10\n",
    "\n",
    "#ex) 10"
   ]
  },
  {
   "cell_type": "code",
   "execution_count": 46,
   "id": "9e978d7b",
   "metadata": {},
   "outputs": [
    {
     "name": "stdout",
     "output_type": "stream",
     "text": [
      "#################################################\n",
      "0 th command \n",
      "#################################################\n",
      "python3 federated_train.py --method FedMOSAM --config configs/cifar_Fedavg.yaml --data ./data --mode dirichlet --dirichlet_alpha 0.3 --batch_size 50 --centralized_epochs 0 --global_epochs 1000 --local_epochs 5 --epsilon 0.1 --momentum 0 --lr 0.1 --learning_rate_decay 0.998 --weight_decay 1e-3 --seed 0 --set CIFAR100 --arch ResNet18 --workers 0 --cuda_visible_device 4 --alpha 0 --num_of_clients 100 --participation_rate 0.05 --additional_experiment_name ld0.998parti0.05_beta0.1_rho0.40 --global_epochs 10000 --global_method global_delta --beta 0.1 --rho 0.40\n",
      "*************************************************\n",
      "#################################################\n",
      "1 th command \n",
      "#################################################\n",
      "python3 federated_train.py --method FedMOSAM --config configs/cifar_Fedavg.yaml --data ./data --mode dirichlet --dirichlet_alpha 0.3 --batch_size 50 --centralized_epochs 0 --global_epochs 1000 --local_epochs 5 --epsilon 0.1 --momentum 0 --lr 0.1 --learning_rate_decay 0.998 --weight_decay 1e-3 --seed 0 --set CIFAR100 --arch ResNet18 --workers 0 --cuda_visible_device 4 --alpha 0 --num_of_clients 100 --participation_rate 0.05 --additional_experiment_name ld0.998parti0.05_beta0.1_rho0.45 --global_epochs 10000 --global_method global_delta --beta 0.1 --rho 0.45\n",
      "*************************************************\n",
      "#################################################\n",
      "2 th command \n",
      "#################################################\n",
      "python3 federated_train.py --method FedMOSAM --config configs/cifar_Fedavg.yaml --data ./data --mode dirichlet --dirichlet_alpha 0.3 --batch_size 50 --centralized_epochs 0 --global_epochs 1000 --local_epochs 5 --epsilon 0.1 --momentum 0 --lr 0.1 --learning_rate_decay 0.998 --weight_decay 1e-3 --seed 0 --set CIFAR100 --arch ResNet18 --workers 0 --cuda_visible_device 4 --alpha 0 --num_of_clients 100 --participation_rate 0.05 --additional_experiment_name ld0.998parti0.05_beta0.1_rho0.40 --global_epochs 10000 --global_method global_delta --beta 0.1 --rho 0.40\n",
      "*************************************************\n",
      "#################################################\n",
      "3 th command \n",
      "#################################################\n",
      "python3 federated_train.py --method FedMOSAM --config configs/cifar_Fedavg.yaml --data ./data --mode dirichlet --dirichlet_alpha 0.3 --batch_size 50 --centralized_epochs 0 --global_epochs 1000 --local_epochs 5 --epsilon 0.1 --momentum 0 --lr 0.1 --learning_rate_decay 0.998 --weight_decay 1e-3 --seed 0 --set CIFAR100 --arch ResNet18 --workers 0 --cuda_visible_device 4 --alpha 0 --num_of_clients 100 --participation_rate 0.05 --additional_experiment_name ld0.998parti0.05_beta0.1_rho0.45 --global_epochs 10000 --global_method global_delta --beta 0.1 --rho 0.45\n",
      "*************************************************\n",
      "#################################################\n",
      "4 th command \n",
      "#################################################\n",
      "python3 federated_train.py --method FedMOSAM --config configs/cifar_Fedavg.yaml --data ./data --mode dirichlet --dirichlet_alpha 0.3 --batch_size 50 --centralized_epochs 0 --global_epochs 1000 --local_epochs 5 --epsilon 0.1 --momentum 0 --lr 0.1 --learning_rate_decay 0.998 --weight_decay 1e-3 --seed 0 --set CIFAR100 --arch ResNet18 --workers 0 --cuda_visible_device 4 --alpha 0 --num_of_clients 100 --participation_rate 0.05 --additional_experiment_name ld0.998parti0.05_beta0.1_rho0.40 --global_epochs 10000 --global_method global_delta --beta 0.1 --rho 0.40\n",
      "*************************************************\n",
      "#################################################\n",
      "5 th command \n",
      "#################################################\n",
      "python3 federated_train.py --method FedMOSAM --config configs/cifar_Fedavg.yaml --data ./data --mode dirichlet --dirichlet_alpha 0.3 --batch_size 50 --centralized_epochs 0 --global_epochs 1000 --local_epochs 5 --epsilon 0.1 --momentum 0 --lr 0.1 --learning_rate_decay 0.998 --weight_decay 1e-3 --seed 0 --set CIFAR100 --arch ResNet18 --workers 0 --cuda_visible_device 4 --alpha 0 --num_of_clients 100 --participation_rate 0.05 --additional_experiment_name ld0.998parti0.05_beta0.1_rho0.45 --global_epochs 10000 --global_method global_delta --beta 0.1 --rho 0.45\n",
      "*************************************************\n",
      "#################################################\n",
      "6 th command \n",
      "#################################################\n",
      "python3 federated_train.py --method FedMOSAM --config configs/cifar_Fedavg.yaml --data ./data --mode dirichlet --dirichlet_alpha 0.3 --batch_size 50 --centralized_epochs 0 --global_epochs 1000 --local_epochs 5 --epsilon 0.1 --momentum 0 --lr 0.1 --learning_rate_decay 0.998 --weight_decay 1e-3 --seed 0 --set CIFAR100 --arch ResNet18 --workers 0 --cuda_visible_device 4 --alpha 0 --num_of_clients 100 --participation_rate 0.05 --additional_experiment_name ld0.998parti0.05_beta0.1_rho0.40 --global_epochs 10000 --global_method global_delta --beta 0.1 --rho 0.40\n",
      "*************************************************\n",
      "#################################################\n",
      "7 th command \n",
      "#################################################\n",
      "python3 federated_train.py --method FedMOSAM --config configs/cifar_Fedavg.yaml --data ./data --mode dirichlet --dirichlet_alpha 0.3 --batch_size 50 --centralized_epochs 0 --global_epochs 1000 --local_epochs 5 --epsilon 0.1 --momentum 0 --lr 0.1 --learning_rate_decay 0.998 --weight_decay 1e-3 --seed 0 --set CIFAR100 --arch ResNet18 --workers 0 --cuda_visible_device 4 --alpha 0 --num_of_clients 100 --participation_rate 0.05 --additional_experiment_name ld0.998parti0.05_beta0.1_rho0.45 --global_epochs 10000 --global_method global_delta --beta 0.1 --rho 0.45\n",
      "*************************************************\n",
      "#################################################\n",
      "8 th command \n",
      "#################################################\n",
      "python3 federated_train.py --method FedMOSAM --config configs/cifar_Fedavg.yaml --data ./data --mode dirichlet --dirichlet_alpha 0.3 --batch_size 50 --centralized_epochs 0 --global_epochs 1000 --local_epochs 5 --epsilon 0.1 --momentum 0 --lr 0.1 --learning_rate_decay 0.998 --weight_decay 1e-3 --seed 0 --set CIFAR100 --arch ResNet18 --workers 0 --cuda_visible_device 4 --alpha 0 --num_of_clients 100 --participation_rate 0.05 --additional_experiment_name ld0.998parti0.05_beta0.1_rho0.40 --global_epochs 10000 --global_method global_delta --beta 0.1 --rho 0.40\n",
      "*************************************************\n",
      "#################################################\n",
      "9 th command \n",
      "#################################################\n",
      "python3 federated_train.py --method FedMOSAM --config configs/cifar_Fedavg.yaml --data ./data --mode dirichlet --dirichlet_alpha 0.3 --batch_size 50 --centralized_epochs 0 --global_epochs 1000 --local_epochs 5 --epsilon 0.1 --momentum 0 --lr 0.1 --learning_rate_decay 0.998 --weight_decay 1e-3 --seed 0 --set CIFAR100 --arch ResNet18 --workers 0 --cuda_visible_device 4 --alpha 0 --num_of_clients 100 --participation_rate 0.05 --additional_experiment_name ld0.998parti0.05_beta0.1_rho0.45 --global_epochs 10000 --global_method global_delta --beta 0.1 --rho 0.45\n",
      "*************************************************\n"
     ]
    }
   ],
   "source": [
    "result_command = make_sweep(command,list_inform_of_hyper_candidate, command_num)"
   ]
  },
  {
   "cell_type": "code",
   "execution_count": null,
   "id": "d24353d0",
   "metadata": {},
   "outputs": [],
   "source": []
  },
  {
   "cell_type": "code",
   "execution_count": null,
   "id": "7fa04d2b",
   "metadata": {},
   "outputs": [],
   "source": []
  },
  {
   "cell_type": "code",
   "execution_count": null,
   "id": "4ea4c063",
   "metadata": {},
   "outputs": [],
   "source": []
  }
 ],
 "metadata": {
  "kernelspec": {
   "display_name": "Python 3 (ipykernel)",
   "language": "python",
   "name": "python3"
  },
  "language_info": {
   "codemirror_mode": {
    "name": "ipython",
    "version": 3
   },
   "file_extension": ".py",
   "mimetype": "text/x-python",
   "name": "python",
   "nbconvert_exporter": "python",
   "pygments_lexer": "ipython3",
   "version": "3.7.11"
  }
 },
 "nbformat": 4,
 "nbformat_minor": 5
}
